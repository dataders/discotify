{
 "cells": [
  {
   "cell_type": "code",
   "execution_count": 23,
   "metadata": {},
   "outputs": [],
   "source": [
    "import discord\n",
    "import spotipy\n",
    "from spotipy.oauth2 import SpotifyClientCredentials\n",
    "import re\n",
    "import spotipy.util as util\n",
    "\n",
    "from pprint import pprint"
   ]
  },
  {
   "cell_type": "code",
   "execution_count": 15,
   "metadata": {},
   "outputs": [],
   "source": [
    "def is_spot_url(url):\n",
    "    rgx = re.compile(r'^(spotify:|https://[a-z]+\\.spotify\\.com/)')\n",
    "    return re.match(rgx, url) is not None"
   ]
  },
  {
   "cell_type": "code",
   "execution_count": 16,
   "metadata": {},
   "outputs": [],
   "source": [
    "with open('id_spotify.txt') as f:\n",
    "    client_id = f.read()\n",
    "with open('secret_spotify.txt') as f:\n",
    "    client_secret = f.read()\n",
    "with open('redirect_spotify.txt') as f:\n",
    "    redirect_uri = f.read()\n",
    "with open('username_spotify.txt') as f:\n",
    "    username = f.read()"
   ]
  },
  {
   "cell_type": "code",
   "execution_count": 17,
   "metadata": {},
   "outputs": [],
   "source": [
    "# spotify = spotipy.Spotify(\n",
    "#     client_credentials_manager=SpotifyClientCredentials(\n",
    "#         client_id=client_id,\n",
    "#         client_secret=client_secret\n",
    "#     )\n",
    "# )\n",
    "\n",
    "scope_str = ','.join(['playlist-read-collaborative','playlist-modify-private'])\n",
    "\n",
    "token = util.prompt_for_user_token(\n",
    "        username='swanderswanders',\n",
    "        scope=scope_str,\n",
    "        client_id=client_id,\n",
    "        client_secret=client_secret,\n",
    "        redirect_uri=redirect_uri)\n",
    "\n",
    "spotify = spotipy.Spotify(auth=token)"
   ]
  },
  {
   "cell_type": "code",
   "execution_count": 18,
   "metadata": {},
   "outputs": [],
   "source": [
    "track_ex = 'https://open.spotify.com/track/0HPD5WQqrq7wPWR7P7Dw1i?si=x9Cbmvb7Q2CuohKHwgMEiQ'\n",
    "url_playlist = 'https://open.spotify.com/playlist/2uzDA17Iy7SQnjcrugRpN4?si=vU44YTTlRii994L17rK8XQ'"
   ]
  },
  {
   "cell_type": "code",
   "execution_count": 19,
   "metadata": {},
   "outputs": [
    {
     "data": {
      "text/plain": [
       "True"
      ]
     },
     "execution_count": 19,
     "metadata": {},
     "output_type": "execute_result"
    }
   ],
   "source": [
    "is_spot_url(track_ex)"
   ]
  },
  {
   "cell_type": "code",
   "execution_count": 41,
   "metadata": {},
   "outputs": [
    {
     "data": {
      "text/plain": [
       "'Kesha'"
      ]
     },
     "execution_count": 41,
     "metadata": {},
     "output_type": "execute_result"
    }
   ],
   "source": [
    "id_track = spotify.track(track_ex)\n",
    "# id_track['name']\n",
    "id_track['artists'][0]['name']"
   ]
  },
  {
   "cell_type": "code",
   "execution_count": 28,
   "metadata": {},
   "outputs": [
    {
     "data": {
      "text/plain": [
       "{'spotify': 'https://open.spotify.com/track/0HPD5WQqrq7wPWR7P7Dw1i'}"
      ]
     },
     "execution_count": 28,
     "metadata": {},
     "output_type": "execute_result"
    }
   ],
   "source": [
    "id_track['external_urls']"
   ]
  },
  {
   "cell_type": "code",
   "execution_count": 32,
   "metadata": {},
   "outputs": [
    {
     "data": {
      "text/plain": [
       "'bangerz'"
      ]
     },
     "execution_count": 32,
     "metadata": {},
     "output_type": "execute_result"
    }
   ],
   "source": [
    "id_bangerz = '2uzDA17Iy7SQnjcrugRpN4'\n",
    "spotify.playlist(id_bangerz)['name']"
   ]
  },
  {
   "cell_type": "code",
   "execution_count": 7,
   "metadata": {},
   "outputs": [],
   "source": [
    "spotify.current_user_follow_playlist('2uzDA17Iy7SQnjcrugRpN4')"
   ]
  },
  {
   "cell_type": "code",
   "execution_count": null,
   "metadata": {},
   "outputs": [],
   "source": [
    "playlist_add_items"
   ]
  },
  {
   "cell_type": "code",
   "execution_count": 17,
   "metadata": {},
   "outputs": [
    {
     "data": {
      "text/plain": [
       "{'snapshot_id': 'NSxjZDU3NGUxOTJhNGFkYjQxYzVhNjJjNGE4ZDI1NTQyNDhiNDAyNjZj'}"
      ]
     },
     "execution_count": 17,
     "metadata": {},
     "output_type": "execute_result"
    }
   ],
   "source": [
    "spotify.playlist_add_items('2uzDA17Iy7SQnjcrugRpN4', [track_ex])"
   ]
  },
  {
   "cell_type": "code",
   "execution_count": 10,
   "metadata": {},
   "outputs": [],
   "source": [
    "class MyClient(discord.Client):\n",
    "    async def on_ready(self):\n",
    "        print('Logged on as', self.user)\n",
    "\n",
    "    async def on_message(self, message):\n",
    "        # don't respond to ourselves\n",
    "        if message.author == self.user:\n",
    "            return\n",
    "\n",
    "        if message.content == 'ping':\n",
    "            await message.channel.send('pong')"
   ]
  },
  {
   "cell_type": "code",
   "execution_count": 11,
   "metadata": {},
   "outputs": [],
   "source": [
    "client = MyClient()\n",
    "# client.run('token')"
   ]
  }
 ],
 "metadata": {
  "kernelspec": {
   "display_name": "Python (discord)",
   "language": "python",
   "name": "discord"
  },
  "language_info": {
   "codemirror_mode": {
    "name": "ipython",
    "version": 3
   },
   "file_extension": ".py",
   "mimetype": "text/x-python",
   "name": "python",
   "nbconvert_exporter": "python",
   "pygments_lexer": "ipython3",
   "version": "3.6.12"
  }
 },
 "nbformat": 4,
 "nbformat_minor": 4
}
